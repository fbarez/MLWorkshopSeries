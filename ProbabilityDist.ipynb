{
 "cells": [
  {
   "cell_type": "markdown",
   "metadata": {},
   "source": [
    "##### Bernoulli Distribution\n",
    "\n",
    "A Bernoulli distribution has only two possible outcomes, namely $1$ $(success)$ and $0$ $(failure)$, and a single trial. So the random variable $X$ which has a Bernoulli distribution can take value $1$ with the probability of $success$, say $p$, and the value $0$ with the probability of $failure$, say q or $1-p$.\n",
    "\n",
    "The probability mass function is given by: $px(1-p)^{1-x}$  where $x \\in (0, 1)$.\n",
    "\n",
    "\n",
    "#### Mathematical definition\n",
    "\n",
    "Bernoulli random variables are characterized as follows.\n",
    "\n",
    "Let  $X$ be a discrete random variable. Let its support be $R_x${${0,1}$}\n",
    "\n",
    "Let $P (0,1)$  We say that  $X$ has a Bernoulli distribution with parameter  $p$ if its probability mass function (pmf) is \n",
    "\n",
    "\n",
    " \\begin{equation}\n",
    "    p_x(x) =\n",
    "    \\left\\{\n",
    "        \\begin{array}{cc}\n",
    "                p & \\mathrm{if\\ } x=1 \\\\\n",
    "                1-p & \\mathrm{if\\ } x=0 \\\\\n",
    "        \\end{array} \n",
    "    \\right.\n",
    "\\end{equation}"
   ]
  },
  {
   "cell_type": "markdown",
   "metadata": {},
   "source": [
    "#### Uniform Distribution\n",
    "When you roll a fair die, the outcomes are 1 to 6. The probabilities of getting these outcomes are equally likely and that is the basis of a uniform distribution. Unlike Bernoulli Distribution, all the n number of possible outcomes of a uniform distribution are equally likely.\n",
    "\n",
    "A variable $X$ is said to be uniformly distributed if the density function is:\n",
    "\n",
    "$f(x)$ = $1\\over b-a$ for $-\\infty < a \\leq x \\leq b < \\infty$\n",
    "\n",
    "Graphically of a uniform distribution curve looks like ![title](ud.png)\n",
    "\n",
    "\n"
   ]
  },
  {
   "cell_type": "markdown",
   "metadata": {},
   "source": [
    "### Binomial Distirbution\n",
    "\n",
    "Consider an experiment having two possible outcomes: either success or failure. Suppose the experiment is repeated several times and the repetitions are independent of each other. The total number of experiments where the outcome turns out to be a success is a random variable whose distribution is called binomial distribution. The distribution has two parameters: the number  n of repetitions of the experiment and the probability  p of success of an individual experiment.\n",
    "\n",
    "A binomial distribution can be seen as a sum of mutually independent Bernoulli random variables that take value 1 in case of success of the experiment and value 0 otherwise. This connection between the binomial and Bernoulli distributions will be illustrated in detail in the remainder of this lecture and will be used to prove several properties of the binomial distribution.\n",
    "\n",
    "##### Mathematical definition\n",
    "\n",
    "\n",
    "Let  $X$ be a discrete random variable. Let  $n \\in \\mathbb{N}$ and $P \\in (0,1)$. Let the support of  $X$ be\n",
    "$R_x${${0,1,...,n}$}\n",
    "We say that $X$ has a binomial distribution with parameters  $n$ and  $P$ if its probability mass function is\n",
    "\n",
    "\\begin{equation}\n",
    "   p_x(x) =\n",
    "   \\left\\{\n",
    "       \\begin{array}{cc}\n",
    "               {n\\choose x}P^{x}(1-P)^{n-x} & \\mathbb{if\\ } x \\in \\mathbb R \\\\\n",
    "               0 & Otherwise \\\\\n",
    "       \\end{array}\n",
    "   \\right.\n",
    "\\end{equation}\n",
    "\n",
    "\n",
    "where \\begin{equation}\n",
    "{n\\choose x} = {n!\\over {x!(n-x)!}}\n",
    "\\end{equation} is a binomial coefficient."
   ]
  },
  {
   "cell_type": "markdown",
   "metadata": {},
   "source": [
    "##### The standard normal distribution\n",
    "The adjective \"standard\" indicates the special case in which the mean is equal to zero and the variance is equal to one. Normal distribution represents the behavior of most of the situations in the universe (That is why it’s called a “normal” distribution. I guess!). The large sum of (small) random variables often turns out to be normally distributed, contributing to its widespread application. \n",
    "\n",
    "##### Mathematical definition\n",
    "\n",
    "let  $X$ be a continuous random variable. Let its support be the whole set of real numbers: $R_x \\in \\mathbb R$   \n",
    "Let  $\\mu \\in \\mathbb R$ and  $\\sigma \\in \\mathbb R$. We say that  X has a normal distribution with mean  $\\mu$ and variance  $\\sigma^2$ if and only if its probability density function is\n",
    "\n",
    "\n",
    "$f_x(x)$ = $\\frac{1}{\\sqrt {2\\pi\\sigma^2}}$exp (-$\\frac{1}{2}$$\\frac{(x-\\mu)^2}{\\sigma^2} ) $\n",
    "\n",
    "\n"
   ]
  }
 ],
 "metadata": {
  "kernelspec": {
   "display_name": "Python 3",
   "language": "python",
   "name": "python3"
  },
  "language_info": {
   "codemirror_mode": {
    "name": "ipython",
    "version": 3
   },
   "file_extension": ".py",
   "mimetype": "text/x-python",
   "name": "python",
   "nbconvert_exporter": "python",
   "pygments_lexer": "ipython3",
   "version": "3.5.5"
  }
 },
 "nbformat": 4,
 "nbformat_minor": 2
}
