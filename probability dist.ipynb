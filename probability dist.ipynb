{
 "cells": [
  {
   "cell_type": "markdown",
   "metadata": {},
   "source": [
    "##  Probability \n",
    "\n",
    "In many settings we have to make decisions under uncertainty. One way to quantify the uncertainty is to model using probability theory.\n",
    "\n",
    "Two reasons why we might want to model under uncertainty:\n",
    "1. laziness (modeling every detail of a complex system is costly)\n",
    "\n",
    "2. ignorance (we may not completely understand the system)\n",
    "\n",
    "Are there alternatives?...Yes!\n",
    "Dempster-Shafer Theory, disjunctive\n",
    "uncertainty, etc. (Fuzzy Logic is about imprecision, not uncertainty.) for more info see: http://ai.stanford.edu/~paskin/gm-short-course/lec1.pdf\n",
    "\n",
    "Why is Probability Theory better? de Finetti: \n",
    "Because if you do not reason according to Probability Theory, you can be made to act irrationally.\n",
    "\n",
    "Probability is the branch of mathematics that studies the possible outcomes of given events together with the outcomes' relative likelihoods and distributions. In common usage, the word \"probability\" is used to mean the chance that a particular event (or set of events) will occur expressed on a linear scale from 0 (impossibility) to 1 (certainty), also expressed as a percentage between 0 and 100%. The analysis of events governed by probability is called statistics.\n",
    "\n",
    "There are several competing interpretations of the actual \"meaning\" of probabilities. Frequentists view probability simply as a measure of the frequency of outcomes (the more conventional interpretation), while Bayesians treat probability more subjectively as a statistical procedure that endeavors to estimate parameters of an underlying distribution based on the observed distribution.\n",
    "\n"
   ]
  },
  {
   "cell_type": "markdown",
   "metadata": {},
   "source": [
    "$\\textbf{Sample space}$ : informally, the sample space for a given set of events is the set of all possible values the events may assume. \n",
    "\n",
    "For example, the sample space of a toss of two coins, each of which may land heads (H) or tails (T), is the set of all possible outcomes: HH, HT, TH, and TT.\n",
    "\n",
    "\n",
    "$\\textbf{Events}$ : An outcome is a subset of a probability space. Experimental outcomes are not uniquely determined from the description of an experiment, and must be agreed upon to avoid ambiguity (Papoulis 1984, pp. 24-25).\n",
    "Trail : In statistics, a trial is a single performance of well-defined experiment (Papoulis 1984, p. 25), such as the flipping of a coin, the generation of a random number, the dropping of a ball down the apex of a triangular lattice and having it fall into a single bin at the bottom, etc.\n",
    "\n",
    "\n",
    "$\\textbf{Outcome}$ :An outcome is a subset of a probability space. Experimental outcomes are not uniquely determined from the description of an experiment, and must be agreed upon to avoid ambiguity (Papoulis 1984, pp. 24-25).\n",
    "\n",
    "\n",
    "$\\textbf{Random Variable}$ :A  random variable X as a real function whose domain is the probability space S and such that:\n",
    "\n",
    "1. The set ${X\\leq x}$ is an event for any real number $x$.\n",
    "\n",
    "2. The probability of the events ${X=+\\infty}$ and ${X=-\\infty}$ \\eq zero.\n",
    "\n",
    "The abbreviation \"r.v.\" is sometimes used to denote a random variable.\n",
    "\n",
    "\n",
    "$\\textbf{Probability Space}$ : A triple (S,S,P) on the domain S, where (S,S) is a measurable space, S are the measurable subsets of S, and P is a measure on S with P(S)=1.\n",
    "\n",
    "    "
   ]
  },
  {
   "cell_type": "markdown",
   "metadata": {},
   "source": [
    "#### Set theory \n",
    "\n",
    "\n",
    "Union:  $\\cup$\n",
    "\n",
    "Intersection : $\\cap$\n",
    "\n",
    "Not: $\\setminus$\n"
   ]
  },
  {
   "cell_type": "markdown",
   "metadata": {},
   "source": [
    "$\\textbf{Probability Axioms}$\n",
    "\n",
    "Given an event E in a sample space S which is either finite with N elements or countably infinite with N=infty elements, then we can write\n",
    "\n",
    " $S=(\\cup_{i=1}^NE_i)$, \n",
    "and a quantity $P(E_i)$, called the probability of event $E_i$, is defined such that\n",
    "\n",
    "1. $0<=P(E_i)<=1$.\n",
    "\n",
    "2. $P(S)=1$.\n",
    "\n",
    "3. Additivity: $P(E_1\\cup E_2)=P(E_1)+P(E_2)$, where  $E_1$ and $E_2$ are mutually exclusive.\n",
    "\n",
    "4. Countable additivity: $P( \\cup_{i=1}^n E_i)=\\sum_{n=1}^n P(E_i)$ for $n=1, 2, ..., N$ where $E_1$, $E_2$, ... are mutually exclusive (i.e., $E_1\\cap E_2=\\emptyset)$."
   ]
  },
  {
   "cell_type": "markdown",
   "metadata": {},
   "source": []
  }
 ],
 "metadata": {
  "kernelspec": {
   "display_name": "Python 3",
   "language": "python",
   "name": "python3"
  },
  "language_info": {
   "codemirror_mode": {
    "name": "ipython",
    "version": 3
   },
   "file_extension": ".py",
   "mimetype": "text/x-python",
   "name": "python",
   "nbconvert_exporter": "python",
   "pygments_lexer": "ipython3",
   "version": "3.5.5"
  }
 },
 "nbformat": 4,
 "nbformat_minor": 2
}
