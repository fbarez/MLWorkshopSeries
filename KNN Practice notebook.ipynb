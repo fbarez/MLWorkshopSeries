{
 "cells": [
  {
   "cell_type": "markdown",
   "metadata": {},
   "source": [
    "# KNN: Practice notebook"
   ]
  },
  {
   "cell_type": "markdown",
   "metadata": {},
   "source": [
    "To start with, import the libraries you're going to need to analyse the data"
   ]
  },
  {
   "cell_type": "code",
   "execution_count": 1,
   "metadata": {},
   "outputs": [],
   "source": [
    "# in order to analyse the data\n",
    "import pandas as pd\n",
    "import numpy as np\n",
    "# in order to display data and results\n",
    "import matplotlib.pyplot as plt\n",
    "import seaborn as sns\n",
    "%matplotlib inline"
   ]
  },
  {
   "cell_type": "markdown",
   "metadata": {},
   "source": [
    "## Suggested workflow:\n",
    "1. read the data . There should be a csv file called \"Classified Data\" in the same directory as this week notebook. \n",
    "- QC the data \n",
    "- standardise all variables to make them comparable (*hint:* from sklearn.preprocessing import StandardScaler) \n",
    "- QC the standardised variables\n",
    "- split the dataset in train and test sets\n",
    "- run KNN (*hint:* from sklearn.neighbors import KNeighborsClassifier, using fit and predict)\n",
    "- evaluate the performance of the estimated model (*hint:* from sklearn.metrics import classification_report,confusion_matrix)\n",
    "- check the estimated confusion matrix and classification report. What can you infer about your mdoel from these?\n",
    "- optimize k value (e.g. by running a for cycle to the impact of test n_neighbors parameter in KNN fit)\n",
    "- suggestion: plotting error rate vs k may be an easy way to find optimum k (**elbow method**)"
   ]
  }
 ],
 "metadata": {
  "kernelspec": {
   "display_name": "Python 3",
   "language": "python",
   "name": "python3"
  },
  "language_info": {
   "codemirror_mode": {
    "name": "ipython",
    "version": 3
   },
   "file_extension": ".py",
   "mimetype": "text/x-python",
   "name": "python",
   "nbconvert_exporter": "python",
   "pygments_lexer": "ipython3",
   "version": "3.5.5"
  }
 },
 "nbformat": 4,
 "nbformat_minor": 2
}
